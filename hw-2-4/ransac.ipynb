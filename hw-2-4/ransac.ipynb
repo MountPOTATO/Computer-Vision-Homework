{
 "cells": [
  {
   "cell_type": "markdown",
   "metadata": {
    "collapsed": true,
    "pycharm": {
     "name": "#%% md\n"
    }
   },
   "source": [
    "# RANSAC fitting\n",
    "\n",
    "- Course:  Computer Vision\n",
    "- Student: Kaixin Chen (1951724)\n",
    "- Tutor:   Prof. Lin Zhang"
   ]
  },
  {
   "cell_type": "markdown",
   "source": [
    "## Question\n",
    "RANSAC is widely used in fitting models from sample points with outliers. Please implement a program to fit a straight 2D line using RANSAC from the following sample points:$(-2, 0), (0, 0.9), (2, 2.0), (3, 6.5), (4, 2.9), (5, 8.8), (6, 3.95), (8, 5.03), (10, 5.97), (12, 7.1), (13, 1.2), (14, 8.2),(16, 8.5) (18, 10.1)$. Please show your result graphically"
   ],
   "metadata": {
    "collapsed": false,
    "pycharm": {
     "name": "#%% md\n"
    }
   }
  },
  {
   "cell_type": "markdown",
   "source": [
    "## Environment Setup"
   ],
   "metadata": {
    "collapsed": false
   }
  },
  {
   "cell_type": "code",
   "execution_count": 40,
   "outputs": [],
   "source": [
    "import random\n",
    "\n",
    "import matplotlib.pyplot as plt\n",
    "from random import sample\n",
    "import numpy as np"
   ],
   "metadata": {
    "collapsed": false,
    "pycharm": {
     "name": "#%%\n"
    }
   }
  },
  {
   "cell_type": "markdown",
   "source": [
    "## Load Sample Points"
   ],
   "metadata": {
    "collapsed": false
   }
  },
  {
   "cell_type": "code",
   "execution_count": 41,
   "outputs": [
    {
     "data": {
      "text/plain": "<Figure size 432x288 with 1 Axes>",
      "image/png": "[encoded data removed]"
     },
     "metadata": {
      "needs_background": "light"
     },
     "output_type": "display_data"
    }
   ],
   "source": [
    "points=np.array([(-2, 0), (0, 0.9), (2, 2.0), (3, 6.5),\n",
    "        (4, 2.9), (5, 8.8), (6, 3.95), (8, 5.03),\n",
    "        (10, 5.97), (12, 7.1), (13, 1.2), (14, 8.2),\n",
    "        (16, 8.5), (18, 10.1)])\n",
    "\n",
    "x_list=[i[0] for i in points]\n",
    "y_list=[i[1] for i in points]\n",
    "\n",
    "# sample points visualization\n",
    "plt.scatter(x_list,y_list,color='b',linewidth=2,label=\"Sample Points\")\n",
    "plt.xlabel(\"x\")\n",
    "plt.ylabel(\"y\")\n",
    "plt.show()\n",
    "\n",
    "\n"
   ],
   "metadata": {
    "collapsed": false,
    "pycharm": {
     "name": "#%%\n"
    }
   }
  },
  {
   "cell_type": "markdown",
   "source": [
    "## Algorithm Process\n",
    "\n",
    "The following code explains every step of RANSAC process with comments."
   ],
   "metadata": {
    "collapsed": false
   }
  },
  {
   "cell_type": "code",
   "execution_count": 42,
   "outputs": [],
   "source": [
    "def ransac(sample_points):\n",
    "    # initialization of RANSAC params\n",
    "    epoch=50 # the total number of trials\n",
    "    current_epoch=1\n",
    "    random_nums=2 # randomly select two point (linear regression when larger than 2)\n",
    "    distance_threshold=0.5 # to tell a point is inlier or outlier\n",
    "    inlier_rate=0.8  # in this case, T=0.8*len(sample_points)\n",
    "    best_k=0\n",
    "    best_b=0\n",
    "    inlier_last_num=0 # the number of inlier points in the last trial\n",
    "    final_inlier_list=[]\n",
    "\n",
    "\n",
    "    for _ in range(epoch):\n",
    "        # Step 1: randomly select 2 data points\n",
    "        p1,p2=random.sample(sample_points.tolist(),random_nums)\n",
    "        (x1,y1)=p1\n",
    "        (x2,y2)=p2\n",
    "\n",
    "        # Step 1: instantiate the model (line in this case)\n",
    "        k=(y1-y2)/(x1-x2)\n",
    "        b=y1-k*x1\n",
    "\n",
    "        # Step 2: determine inliers set of data points\n",
    "        inlier_list=[]\n",
    "\n",
    "        # extract inliers by the distance\n",
    "        for point in sample_points:\n",
    "            (x0,y0)=point\n",
    "            # point-line distance: |kx-y+b|/sqrt(k^2+1)\n",
    "            dist=np.abs(k*x0-y0+b)/np.sqrt(pow(k,2)+1)\n",
    "            if dist<distance_threshold:\n",
    "                inlier_list.append(point)\n",
    "\n",
    "\n",
    "        if len(inlier_list)>inlier_last_num:\n",
    "            inlier_last_num=len(inlier_list)\n",
    "            best_k=k\n",
    "            best_b=b\n",
    "\n",
    "        inlier_num_threshold=round(len(sample_points)*inlier_rate)\n",
    "\n",
    "        # Step 3&4:\n",
    "        if len(inlier_list)<inlier_num_threshold:\n",
    "            # Step 4:insufficient inlier points\n",
    "            # select a new subset and repeat\n",
    "            current_epoch+=1\n",
    "            continue\n",
    "        else:\n",
    "            # Step 3: sufficient inlier points\n",
    "            # terminate with current subset\n",
    "            final_inlier_list=inlier_list\n",
    "            break\n",
    "\n",
    "    print(\"total epoch: {}\".format(str(current_epoch)))\n",
    "    print(\"total inlier points: {}\".format(str(inlier_last_num)))\n",
    "    print(\"inlier points: {}\".format(str(final_inlier_list)))\n",
    "    print(\"best k: {}\".format(str(best_k)))\n",
    "    print(\"best b: {}\".format(str(best_b)))\n",
    "    print(\"result: y={}x+{}\".format(best_k,best_b) )\n",
    "\n",
    "    return best_k,best_b"
   ],
   "metadata": {
    "collapsed": false,
    "pycharm": {
     "name": "#%%\n"
    }
   }
  },
  {
   "cell_type": "markdown",
   "source": [
    "## Result Display"
   ],
   "metadata": {
    "collapsed": false,
    "pycharm": {
     "name": "#%% md\n"
    }
   }
  },
  {
   "cell_type": "code",
   "execution_count": 43,
   "outputs": [
    {
     "name": "stdout",
     "output_type": "stream",
     "text": [
      "total epoch: 9\n",
      "total inlier points: 11\n",
      "inlier points: [array([-2.,  0.]), array([0. , 0.9]), array([2., 2.]), array([4. , 2.9]), array([6.  , 3.95]), array([8.  , 5.03]), array([10.  ,  5.97]), array([12. ,  7.1]), array([14. ,  8.2]), array([16. ,  8.5]), array([18. , 10.1])]\n",
      "best k: 0.46999999999999975\n",
      "best b: 1.2700000000000022\n",
      "result: y=0.46999999999999975x+1.2700000000000022\n"
     ]
    },
    {
     "data": {
      "text/plain": "<Figure size 432x288 with 1 Axes>",
      "image/png": "[encoded data removed]"
     },
     "metadata": {
      "needs_background": "light"
     },
     "output_type": "display_data"
    }
   ],
   "source": [
    "plt.scatter(x_list,y_list,color='b',linewidth=2,label=\"Sample Points\")\n",
    "plt.xlabel(\"x\")\n",
    "plt.ylabel(\"y\")\n",
    "\n",
    "k_fit,b_fit=ransac(points)\n",
    "fit_y_list=[k_fit*x+b_fit for x in x_list]\n",
    "plt.plot(x_list,fit_y_list)\n",
    "plt.show()\n"
   ],
   "metadata": {
    "collapsed": false,
    "pycharm": {
     "name": "#%%\n"
    }
   }
  }
 ],
 "metadata": {
  "kernelspec": {
   "display_name": "Python 3",
   "language": "python",
   "name": "python3"
  },
  "language_info": {
   "codemirror_mode": {
    "name": "ipython",
    "version": 2
   },
   "file_extension": ".py",
   "mimetype": "text/x-python",
   "name": "python",
   "nbconvert_exporter": "python",
   "pygments_lexer": "ipython2",
   "version": "2.7.6"
  }
 },
 "nbformat": 4,
 "nbformat_minor": 0
}